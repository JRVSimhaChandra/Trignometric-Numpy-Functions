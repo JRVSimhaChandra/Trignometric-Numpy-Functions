{
 "cells": [
  {
   "cell_type": "markdown",
   "id": "1a7dde19-4fbd-4738-923a-790c01bd967b",
   "metadata": {},
   "source": [
    "# sin()\n",
    "\n",
    "This mathematical function helps user to calculate trignometric sin for all x (being the array elements)"
   ]
  },
  {
   "cell_type": "code",
   "execution_count": 1,
   "id": "13e0600f-aa65-4511-9774-e86bda5a5c4c",
   "metadata": {},
   "outputs": [
    {
     "name": "stdout",
     "output_type": "stream",
     "text": [
      "Input array : \n",
      " [0, 1.5707963267948966, 1.0471975511965976, 0.5235987755982988]\n",
      "\n",
      "Sine values : \n",
      " [0.        1.        0.8660254 0.5      ]\n"
     ]
    }
   ],
   "source": [
    "# sin() function\n",
    "\n",
    "import numpy as np\n",
    "import math\n",
    "\n",
    "in_array = [0, math.pi / 2, math.pi / 3,math.pi/6]\n",
    "print (\"Input array : \\n\", in_array)\n",
    "\n",
    "Sin_Values = np.sin(in_array)\n",
    "print (\"\\nSine values : \\n\", Sin_Values)"
   ]
  },
  {
   "cell_type": "markdown",
   "id": "81761200-27a9-4be7-a381-cf0551b9d62b",
   "metadata": {},
   "source": [
    "# cos()\n",
    "\n",
    "This mathematical function helps user to calculate trignometric cosine for all x ((being the array elements)"
   ]
  },
  {
   "cell_type": "code",
   "execution_count": 5,
   "id": "c92eb603-86b5-4099-ac37-531bd3701eac",
   "metadata": {},
   "outputs": [
    {
     "name": "stdout",
     "output_type": "stream",
     "text": [
      "Input array : \n",
      " [0, 1.0471975511965976, 0.7853981633974483, 3.141592653589793]\n",
      "\n",
      "Cosine values : \n",
      " [ 1.          0.5         0.70710678 -1.        ]\n"
     ]
    }
   ],
   "source": [
    "# cos() function\n",
    "\n",
    "import numpy as np\n",
    "import math\n",
    "\n",
    "in_array = [0, math.pi / 3, math.pi/4,math.pi]\n",
    "print(\"Input array : \\n\", in_array)\n",
    "\n",
    "cos_values = np.cos(in_array)\n",
    "print (\"\\nCosine values : \\n\", cos_values)"
   ]
  },
  {
   "cell_type": "markdown",
   "id": "399e4c9f-29b0-4e85-a10f-b71396bafc4b",
   "metadata": {},
   "source": [
    "# tan()\n",
    "\n",
    "This mathematical function helps user to calculate trignometric Tangent for all x ((being the array elements) \n",
    "\n",
    "2pl Radians=360 degrees\n",
    "tan(x)=sin(x)/cos(x)"
   ]
  },
  {
   "cell_type": "code",
   "execution_count": 6,
   "id": "d27553dd-6a01-49cc-8c10-5b2c62730714",
   "metadata": {},
   "outputs": [
    {
     "name": "stdout",
     "output_type": "stream",
     "text": [
      "Input array : \n",
      " [0, 0.7853981633974483, 0.5235987755982988]\n",
      "\n",
      "Tan values : \n",
      " [0.         1.         0.57735027]\n"
     ]
    }
   ],
   "source": [
    "import numpy as np\n",
    "import math\n",
    "\n",
    "in_array = [0, math.pi / 4, math.pi/6]\n",
    "print(\"Input array : \\n\", in_array)\n",
    "\n",
    "tan_values = np.tan(in_array)\n",
    "print (\"\\nTan values : \\n\", tan_values)"
   ]
  },
  {
   "cell_type": "code",
   "execution_count": null,
   "id": "cbb47e9b-a2c5-4363-8cd6-c1b78d238c40",
   "metadata": {},
   "outputs": [],
   "source": []
  }
 ],
 "metadata": {
  "kernelspec": {
   "display_name": "Python 3 (ipykernel)",
   "language": "python",
   "name": "python3"
  },
  "language_info": {
   "codemirror_mode": {
    "name": "ipython",
    "version": 3
   },
   "file_extension": ".py",
   "mimetype": "text/x-python",
   "name": "python",
   "nbconvert_exporter": "python",
   "pygments_lexer": "ipython3",
   "version": "3.12.4"
  }
 },
 "nbformat": 4,
 "nbformat_minor": 5
}
